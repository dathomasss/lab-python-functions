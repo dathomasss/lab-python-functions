{
 "cells": [
  {
   "cell_type": "markdown",
   "id": "25d7736c-ba17-4aff-b6bb-66eba20fbf4e",
   "metadata": {},
   "source": [
    "# Lab | Functions"
   ]
  },
  {
   "cell_type": "markdown",
   "id": "0c581062-8967-4d93-b06e-62833222f930",
   "metadata": {
    "tags": []
   },
   "source": [
    "## Exercise: Managing Customer Orders with Functions\n",
    "\n",
    "In the previous exercise, you improved the code for managing customer orders by using loops and flow control. Now, let's take it a step further and refactor the code by introducing functions.\n",
    "\n",
    "Follow the steps below to complete the exercise:\n",
    "\n",
    "1. Define a function named `initialize_inventory` that takes `products` as a parameter. Inside the function, implement the code for initializing the inventory dictionary using a loop and user input.\n",
    "\n",
    "2. Define a function named `get_customer_orders` that takes no parameters. Inside the function, implement the code for prompting the user to enter the product names using a loop. The function should return the `customer_orders` set.\n",
    "\n",
    "3. Define a function named `update_inventory` that takes `customer_orders` and `inventory` as parameters. Inside the function, implement the code for updating the inventory dictionary based on the customer orders.\n",
    "\n",
    "4. Define a function named `calculate_order_statistics` that takes `customer_orders` and `products` as parameters. Inside the function, implement the code for calculating the order statistics (total products ordered, and percentage of unique products ordered). The function should return these values.\n",
    "\n",
    "5. Define a function named `print_order_statistics` that takes `order_statistics` as a parameter. Inside the function, implement the code for printing the order statistics.\n",
    "\n",
    "6. Define a function named `print_updated_inventory` that takes `inventory` as a parameter. Inside the function, implement the code for printing the updated inventory.\n",
    "\n",
    "7. Call the functions in the appropriate sequence to execute the program and manage customer orders.\n",
    "\n",
    "Hints for functions:\n",
    "\n",
    "- Consider the input parameters required for each function and their return values.\n",
    "- Utilize function parameters and return values to transfer data between functions.\n",
    "- Test your functions individually to ensure they work correctly.\n",
    "\n",
    "\n"
   ]
  },
  {
   "cell_type": "code",
   "execution_count": 166,
   "id": "0053f469-a9d2-4d3f-be4b-4652ab1b9096",
   "metadata": {},
   "outputs": [
    {
     "name": "stdout",
     "output_type": "stream",
     "text": [
      "Choose the quantity of each product\n",
      "Choose the quantity of t-shirt\n"
     ]
    },
    {
     "name": "stdin",
     "output_type": "stream",
     "text": [
      "Enter the quantity : 18\n"
     ]
    },
    {
     "name": "stdout",
     "output_type": "stream",
     "text": [
      "Choose the quantity of mug\n"
     ]
    },
    {
     "name": "stdin",
     "output_type": "stream",
     "text": [
      "Enter the quantity : 22\n"
     ]
    },
    {
     "name": "stdout",
     "output_type": "stream",
     "text": [
      "Choose the quantity of hat\n"
     ]
    },
    {
     "name": "stdin",
     "output_type": "stream",
     "text": [
      "Enter the quantity : 12\n"
     ]
    },
    {
     "name": "stdout",
     "output_type": "stream",
     "text": [
      "Choose the quantity of book\n"
     ]
    },
    {
     "name": "stdin",
     "output_type": "stream",
     "text": [
      "Enter the quantity : 10\n"
     ]
    },
    {
     "name": "stdout",
     "output_type": "stream",
     "text": [
      "Choose the quantity of keychain\n"
     ]
    },
    {
     "name": "stdin",
     "output_type": "stream",
     "text": [
      "Enter the quantity : 26\n"
     ]
    },
    {
     "name": "stdout",
     "output_type": "stream",
     "text": [
      "You have to choose 3 products for your order\n"
     ]
    },
    {
     "name": "stdin",
     "output_type": "stream",
     "text": [
      "choose product 1 :  hat\n",
      "choose a quantity :  5\n",
      "choose product 2 :  book\n",
      "choose a quantity :  8\n",
      "choose product 3 :  mug\n",
      "choose a quantity :  15\n"
     ]
    },
    {
     "name": "stdout",
     "output_type": "stream",
     "text": [
      "\n",
      "Order_statistics :\n",
      "('The number of product ordered is 3', 'The percentage of all product ordered is 60')\n",
      "\n",
      "Inventory updated\n",
      "{'t-shirt': 18, 'mug': 7, 'hat': 7, 'book': 2, 'keychain': 26}\n"
     ]
    }
   ],
   "source": [
    "\n",
    "def initialize_inventory(products):\n",
    "    print (\"Choose the quantity of each product\")\n",
    "    inventory = {}\n",
    "\n",
    "    for i in products:\n",
    "        print(f\"Choose the quantity of {i}\")\n",
    "        inventory[i] = int(input(\"Enter the quantity :\"))\n",
    "\n",
    "    return inventory\n",
    "\n",
    "inventory = initialize_inventory(products = [\"t-shirt\", \"mug\", \"hat\", \"book\", \"keychain\"])\n",
    "\n",
    "def get_customer_orders():\n",
    "    print (\"You have to choose 3 products for your order\")\n",
    "    customer_orders = {}\n",
    "\n",
    "    for i in range (1, 4):\n",
    "        prod = input(f\"choose product {i} : \")        \n",
    "        if prod in products:\n",
    "            qté = int(input(\"choose a quantity : \"))\n",
    "            customer_orders[prod] = qté\n",
    "        else :\n",
    "            while prod not in products :\n",
    "                print(\"the product is not in the list\")\n",
    "                prod = input(f\"choose product {i} : \")\n",
    "            qté = int(input(\"choose a quantity : \"))\n",
    "            customer_orders[prod] = qté\n",
    "        \n",
    "    \n",
    "    return customer_orders\n",
    "       \n",
    "customer_orders = get_customer_orders()\n",
    "\n",
    "def update_inventory(customer_orders, inventory):\n",
    "    for prod, qté in customer_orders.items():\n",
    "        if prod in inventory:\n",
    "            if inventory[prod] >= qté:\n",
    "                inventory[prod] -= qté\n",
    "            else:\n",
    "                print(f\"Not enough stock for {prod}.\")\n",
    "    return inventory\n",
    "\n",
    "inventory = update_inventory(customer_orders, inventory)\n",
    "\n",
    "\n",
    "def calculate_order_statistics(customer_orders, products):\n",
    "\n",
    "    number_in_co = len(customer_orders)\n",
    "    percentage_product = int((number_in_co / len(products)) * 100)\n",
    "\n",
    "    return (f\"The number of product ordered is {number_in_co}\"), (f\"The percentage of all product ordered is {percentage_product}\")\n",
    "\n",
    "order_statistics = calculate_order_statistics(customer_orders, products)\n",
    "\n",
    "def print_order_statistics(order_statistics):\n",
    "    print()\n",
    "    print (\"Order_statistics :\")\n",
    "    print (order_statistics)\n",
    "    print ()\n",
    "\n",
    "print_order_statistics(order_statistics)\n",
    "\n",
    "def print_update_inventory(inventory):\n",
    "    print (\"Inventory updated\")\n",
    "    print (inventory)\n",
    "\n",
    "print_update_inventory(inventory)\n"
   ]
  },
  {
   "cell_type": "code",
   "execution_count": null,
   "id": "17cc70c7-75fe-477d-ab79-1278539862d3",
   "metadata": {},
   "outputs": [],
   "source": []
  }
 ],
 "metadata": {
  "kernelspec": {
   "display_name": "Python 3 (ipykernel)",
   "language": "python",
   "name": "python3"
  },
  "language_info": {
   "codemirror_mode": {
    "name": "ipython",
    "version": 3
   },
   "file_extension": ".py",
   "mimetype": "text/x-python",
   "name": "python",
   "nbconvert_exporter": "python",
   "pygments_lexer": "ipython3",
   "version": "3.12.7"
  }
 },
 "nbformat": 4,
 "nbformat_minor": 5
}
